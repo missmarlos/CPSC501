{
  "nbformat": 4,
  "nbformat_minor": 0,
  "metadata": {
    "colab": {
      "name": "MNISTStarter.ipynb",
      "provenance": [],
      "collapsed_sections": []
    },
    "kernelspec": {
      "name": "python3",
      "display_name": "Python 3"
    }
  },
  "cells": [
    {
      "cell_type": "code",
      "metadata": {
        "id": "m4eZDEIAx0aH",
        "colab_type": "code",
        "outputId": "6b13f806-9555-4751-ee62-efa85b966936",
        "colab": {
          "base_uri": "https://localhost:8080/",
          "height": 35
        }
      },
      "source": [
        "try:\n",
        "  # %tensorflow_version only exists in Colab.\n",
        "  %tensorflow_version 2.x\n",
        "except Exception:\n",
        "  pass"
      ],
      "execution_count": 0,
      "outputs": [
        {
          "output_type": "stream",
          "text": [
            "TensorFlow 2.x selected.\n"
          ],
          "name": "stdout"
        }
      ]
    },
    {
      "cell_type": "code",
      "metadata": {
        "id": "ITCcIDcJx02Q",
        "colab_type": "code",
        "outputId": "e4ad2999-7248-44e6-98d7-ab38a361e9b7",
        "colab": {
          "base_uri": "https://localhost:8080/",
          "height": 520
        }
      },
      "source": [
        "import tensorflow as tf\n",
        "\n",
        "print(\"--Get data--\")\n",
        "mnist = tf.keras.datasets.mnist\n",
        "(x_train, y_train), (x_test, y_test) = mnist.load_data()\n",
        "\n",
        "print(\"--Process data--\")\n",
        "x_train, x_test = x_train / 255.0, x_test / 255.0\n",
        "\n",
        "print(\"--Make model--\")\n",
        "model = tf.keras.models.Sequential([\n",
        "  tf.keras.layers.Flatten(input_shape=(28, 28)),\n",
        "  tf.keras.layers.Dense(400, activation='relu'),\n",
        "  tf.keras.layers.Dense(400, activation='relu'),\n",
        "  tf.keras.layers.Dense(10, activation='softmax'),\n",
        "])\n",
        "model.compile(optimizer='adam', loss='sparse_categorical_crossentropy', metrics=['accuracy'])\n",
        "\n",
        "print(\"--Fit model--\")\n",
        "model.fit(x_train, y_train, epochs=10, verbose=2)\n",
        "\n",
        "print(\"--Evaluate model--\")\n",
        "model_loss, model_acc = model.evaluate(x_test,  y_test, verbose=2)\n",
        "print(f\"Model Loss:    {model_loss:.2f}\")\n",
        "print(f\"Model Accuray: {model_acc*100:.1f}%\")"
      ],
      "execution_count": 61,
      "outputs": [
        {
          "output_type": "stream",
          "text": [
            "--Get data--\n",
            "--Process data--\n",
            "--Make model--\n",
            "--Fit model--\n",
            "Train on 60000 samples\n",
            "Epoch 1/10\n",
            "60000/60000 - 11s - loss: 0.1862 - accuracy: 0.9434\n",
            "Epoch 2/10\n",
            "60000/60000 - 11s - loss: 0.0792 - accuracy: 0.9755\n",
            "Epoch 3/10\n",
            "60000/60000 - 11s - loss: 0.0580 - accuracy: 0.9814\n",
            "Epoch 4/10\n",
            "60000/60000 - 10s - loss: 0.0430 - accuracy: 0.9856\n",
            "Epoch 5/10\n",
            "60000/60000 - 10s - loss: 0.0345 - accuracy: 0.9887\n",
            "Epoch 6/10\n",
            "60000/60000 - 10s - loss: 0.0291 - accuracy: 0.9906\n",
            "Epoch 7/10\n",
            "60000/60000 - 10s - loss: 0.0235 - accuracy: 0.9924\n",
            "Epoch 8/10\n",
            "60000/60000 - 11s - loss: 0.0233 - accuracy: 0.9928\n",
            "Epoch 9/10\n",
            "60000/60000 - 11s - loss: 0.0183 - accuracy: 0.9942\n",
            "Epoch 10/10\n",
            "60000/60000 - 10s - loss: 0.0186 - accuracy: 0.9944\n",
            "--Evaluate model--\n",
            "10000/1 - 1s - loss: 0.0500 - accuracy: 0.9819\n",
            "Model Loss:    0.09\n",
            "Model Accuray: 98.2%\n"
          ],
          "name": "stdout"
        }
      ]
    },
    {
      "cell_type": "code",
      "metadata": {
        "id": "uqKuNbSJEaWc",
        "colab_type": "code",
        "colab": {}
      },
      "source": [
        "#Save Model to MNIST.h5"
      ],
      "execution_count": 0,
      "outputs": []
    },
    {
      "cell_type": "code",
      "metadata": {
        "id": "0Vc4ePZwERJW",
        "colab_type": "code",
        "colab": {}
      },
      "source": [
        "from google.colab import files\n",
        "files.download('MNIST.h5')"
      ],
      "execution_count": 0,
      "outputs": []
    }
  ]
}